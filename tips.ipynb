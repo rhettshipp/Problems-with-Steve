{
 "metadata": {
  "name": "",
  "signature": "sha256:4ef1d448a13dc0886351352713331b05874c068348c9e6bb17e8de0e0794a455"
 },
 "nbformat": 3,
 "nbformat_minor": 0,
 "worksheets": [
  {
   "cells": [
    {
     "cell_type": "markdown",
     "metadata": {},
     "source": [
      "# Basic types"
     ]
    },
    {
     "cell_type": "markdown",
     "metadata": {},
     "source": [
      "### A `list` is an ordered list (or _array_) of objects"
     ]
    },
    {
     "cell_type": "code",
     "collapsed": false,
     "input": [
      "mylist = []\n",
      "mylist.append(1)\n",
      "mylist.append(2)\n",
      "mylist.append(3)\n",
      "print mylist"
     ],
     "language": "python",
     "metadata": {},
     "outputs": [
      {
       "output_type": "stream",
       "stream": "stdout",
       "text": [
        "[1, 2, 3]\n"
       ]
      }
     ],
     "prompt_number": 3
    },
    {
     "cell_type": "markdown",
     "metadata": {},
     "source": [
      "Object lookup is done using _slice_ notation"
     ]
    },
    {
     "cell_type": "code",
     "collapsed": false,
     "input": [
      "print mylist[0]\n",
      "print mylist[:2]\n",
      "print mylist[1:]\n",
      "print mylist[1:2]\n",
      "print mylist[:]"
     ],
     "language": "python",
     "metadata": {},
     "outputs": [
      {
       "output_type": "stream",
       "stream": "stdout",
       "text": [
        "1\n",
        "[1, 2]\n",
        "[2, 3]\n",
        "[2]\n",
        "[1, 2, 3]\n"
       ]
      }
     ],
     "prompt_number": 11
    },
    {
     "cell_type": "markdown",
     "metadata": {},
     "source": [
      "`list` elements can be modified (`list`s are _mutable_)"
     ]
    },
    {
     "cell_type": "code",
     "collapsed": false,
     "input": [
      "mylist[2] = 4\n",
      "print mylist"
     ],
     "language": "python",
     "metadata": {},
     "outputs": [
      {
       "output_type": "stream",
       "stream": "stdout",
       "text": [
        "[1, 2, 4]\n"
       ]
      }
     ],
     "prompt_number": 13
    },
    {
     "cell_type": "markdown",
     "metadata": {},
     "source": [
      "### A `tuple` is an _immutable_ list of objects"
     ]
    },
    {
     "cell_type": "code",
     "collapsed": false,
     "input": [
      "mytuple = (1, 2, 3)\n",
      "print mytuple[0]\n",
      "print mytuple[:2]\n",
      "mytuple[2] = 4"
     ],
     "language": "python",
     "metadata": {},
     "outputs": [
      {
       "output_type": "stream",
       "stream": "stdout",
       "text": [
        "1\n",
        "(1, 2)\n"
       ]
      },
      {
       "ename": "TypeError",
       "evalue": "'tuple' object does not support item assignment",
       "output_type": "pyerr",
       "traceback": [
        "\u001b[0;31m---------------------------------------------------------------------------\u001b[0m\n\u001b[0;31mTypeError\u001b[0m                                 Traceback (most recent call last)",
        "\u001b[0;32m<ipython-input-14-27815ef4eca2>\u001b[0m in \u001b[0;36m<module>\u001b[0;34m()\u001b[0m\n\u001b[1;32m      2\u001b[0m \u001b[0;32mprint\u001b[0m \u001b[0mmytuple\u001b[0m\u001b[0;34m[\u001b[0m\u001b[0;36m0\u001b[0m\u001b[0;34m]\u001b[0m\u001b[0;34m\u001b[0m\u001b[0m\n\u001b[1;32m      3\u001b[0m \u001b[0;32mprint\u001b[0m \u001b[0mmytuple\u001b[0m\u001b[0;34m[\u001b[0m\u001b[0;34m:\u001b[0m\u001b[0;36m2\u001b[0m\u001b[0;34m]\u001b[0m\u001b[0;34m\u001b[0m\u001b[0m\n\u001b[0;32m----> 4\u001b[0;31m \u001b[0mmytuple\u001b[0m\u001b[0;34m[\u001b[0m\u001b[0;36m2\u001b[0m\u001b[0;34m]\u001b[0m \u001b[0;34m=\u001b[0m \u001b[0;36m4\u001b[0m\u001b[0;34m\u001b[0m\u001b[0m\n\u001b[0m",
        "\u001b[0;31mTypeError\u001b[0m: 'tuple' object does not support item assignment"
       ]
      }
     ],
     "prompt_number": 14
    },
    {
     "cell_type": "markdown",
     "metadata": {},
     "source": [
      "### A `dict` is an _associative array_; objects are stored as `key: value` pairs"
     ]
    },
    {
     "cell_type": "code",
     "collapsed": false,
     "input": [
      "mydict = {}\n",
      "mydict['one'] = 1\n",
      "mydict[2] = 'two'\n",
      "print mydict"
     ],
     "language": "python",
     "metadata": {},
     "outputs": [
      {
       "output_type": "stream",
       "stream": "stdout",
       "text": [
        "{2: 'two', 'one': 1}\n"
       ]
      }
     ],
     "prompt_number": 6
    },
    {
     "cell_type": "markdown",
     "metadata": {},
     "source": [
      "__Note__: `key: value` pairs in dictionaries are __not__ stored in order"
     ]
    },
    {
     "cell_type": "markdown",
     "metadata": {},
     "source": [
      "Object lookup is done by mapping keys to values"
     ]
    },
    {
     "cell_type": "code",
     "collapsed": false,
     "input": [
      "print mydict['one']\n",
      "print mydict[2]\n",
      "print mydict.keys()\n",
      "print mydict.values()\n",
      "print mydict.items()"
     ],
     "language": "python",
     "metadata": {},
     "outputs": [
      {
       "output_type": "stream",
       "stream": "stdout",
       "text": [
        "1\n",
        "two\n",
        "[2, 'one']\n",
        "['two', 1]\n",
        "[(2, 'two'), ('one', 1)]\n"
       ]
      }
     ],
     "prompt_number": 7
    },
    {
     "cell_type": "markdown",
     "metadata": {},
     "source": [
      "# Control structures"
     ]
    },
    {
     "cell_type": "markdown",
     "metadata": {},
     "source": [
      "### `if...elif...else` executes code when certain conditions are met"
     ]
    },
    {
     "cell_type": "code",
     "collapsed": false,
     "input": [
      "if 'two' in mydict:\n",
      "    print \"No key 'two' in dictionary\"\n",
      "elif 'one' in mydict:\n",
      "    print \"'two' wasn't there, but 'one' is\"\n",
      "else:\n",
      "    print \"Could not find 'one' or 'two' in dictionary\""
     ],
     "language": "python",
     "metadata": {},
     "outputs": [
      {
       "output_type": "stream",
       "stream": "stdout",
       "text": [
        "'two' wasn't there, but 'one' is\n"
       ]
      }
     ],
     "prompt_number": 19
    },
    {
     "cell_type": "code",
     "collapsed": false,
     "input": [],
     "language": "python",
     "metadata": {},
     "outputs": []
    }
   ],
   "metadata": {}
  }
 ]
}